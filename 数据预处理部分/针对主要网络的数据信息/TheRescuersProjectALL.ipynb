{
 "cells": [
  {
   "cell_type": "code",
   "execution_count": 1,
   "metadata": {},
   "outputs": [
    {
     "name": "stdout",
     "output_type": "stream",
     "text": [
      "0\n",
      "艺术家:rollingrabbit,热度:497\n",
      "艺术家:Azdaracylius,热度:74\n",
      "艺术家:tweakfox,热度:296\n",
      "艺术家:Kegawa,热度:110\n",
      "艺术家:CaseyDecker,热度:78\n",
      "艺术家:CelticBotan,热度:438\n",
      "艺术家:pu,热度:339\n",
      "艺术家:Disney-Funker,热度:162\n",
      "艺术家:Lumosita,热度:297\n",
      "艺术家:princekido,热度:3,184\n",
      "艺术家:Hyung86,热度:655\n",
      "艺术家:FERNL,热度:104\n",
      "艺术家:chacckco,热度:1,881\n",
      "艺术家:princekido,热度:1,604\n",
      "艺术家:Tell-Me-Lies,热度:648\n",
      "艺术家:FERNL,热度:112\n",
      "艺术家:Sweet-Amy-Leah,热度:81\n",
      "艺术家:fredvegerano,热度:194\n",
      "艺术家:Hyung86,热度:513\n",
      "艺术家:DrMistyTang,热度:987\n",
      "艺术家:TheLivingShadow,热度:64\n",
      "艺术家:TheLivingShadow,热度:52\n"
     ]
    }
   ],
   "source": [
    "#本部分调研搜索界面的第2页\n",
    "#调用requetss包请求网页源代码\n",
    "import requests\n",
    "from bs4 import BeautifulSoup\n",
    "from bs4 import element\n",
    "import csv\n",
    "#本次抽样百分之一，26份样品，1个页面\n",
    "#本次直接爬取了从0到144页面的所有相应信息，将信息保存在csv格式文件之中\n",
    "\n",
    "#以下是csv转换区，提前做好csv表格准备\n",
    "csv_file = open('TheRescuersAll.csv','w',encoding=\"gbk\",newline='')\n",
    "writer = csv.writer(csv_file)\n",
    "writer.writerow([\"艺术家\",\"热度\"])#编辑表格中的标题\n",
    "\n",
    "for i in range(0,1):\n",
    "    print(i)#这里用来验证页数是否正常\n",
    "    icount = i*24\n",
    "    url = \"https://www.deviantart.com/popular-all-time/?section=&global=1&q=The+Rescuers+Bernard&offset=\"+str(icount)\n",
    "    response = requests.get(url)\n",
    "    #print(response.content.decode('utf-8'))\n",
    "\n",
    "    #将网页源代码保存到本地MyBambi.html文件中\n",
    "    file_obj = open('MyRescuersAll.html','w')\n",
    "    file_obj.write(response.content.decode('utf-8'))\n",
    "    file_obj.close()\n",
    "\n",
    "    #从bs4引入数据提取工具BeautifulSoup\n",
    "    from bs4 import BeautifulSoup\n",
    "    file_obj = open('MyRescuersAll.html','r')#以读方式打开MyBambi文件\n",
    "    html = file_obj.read() #把文件的内容全部读出来并赋值给html变量\n",
    "    file_obj.close()\n",
    "    soup = BeautifulSoup(html,'html5lib')#html.parser,html5lib初始化BeautifulSoup，使用lxml有可能会有格式问题\n",
    "    #print(soup)#输出BeautifulSoup转换后 的源代码内容\n",
    "\n",
    "    #all_bambis = soup.find('div',class_=\"page-results results-page-thumb torpedo-container torpedo-container-xs\")\n",
    "    all_bambis = soup.find('div',class_=\"browse-content with-sidemenu\") #先找到所有bambi作品所在的最大div\n",
    "    #print(all_bambis) #输出该范围的所有内容\n",
    "\n",
    "    #注意：csv转换区！\n",
    "   # csv_file = open('BambiPageAll.csv','w',encoding=\"gbk\",newline='')\n",
    "   # writer = csv.writer(csv_file)\n",
    "\n",
    "    #writer.writerow([\"艺术家\",\"热度\"])#写入标题\n",
    "    #csv转换块暂时结束\n",
    "    \n",
    "    #一下是在先前程序测试后排出标签异常页的更新\n",
    "    \n",
    "    #if(i!=27 and i!=39 and i!=66 and i!=97and i!=106 and i!=140):\n",
    "    for each_bambi in all_bambis.find_all('span',class_=\"info\"):\n",
    "            all_a_tag = each_bambi.find_all('a')\n",
    "            all_hot_tag = each_bambi.find_all('span',class_=\"faves icon-faves\")\n",
    "            bambi_artist = all_a_tag[1].text\n",
    "            bambi_hot = all_hot_tag[0].text\n",
    "            print('艺术家:{},热度:{}'.format(bambi_artist,bambi_hot))\n",
    "            writer.writerow([bambi_artist,bambi_hot])\n",
    "\n",
    "csv_file.close()\n",
    "    #print(\"write_finished!\")"
   ]
  },
  {
   "cell_type": "code",
   "execution_count": null,
   "metadata": {},
   "outputs": [],
   "source": []
  }
 ],
 "metadata": {
  "kernelspec": {
   "display_name": "Python 3",
   "language": "python",
   "name": "python3"
  },
  "language_info": {
   "codemirror_mode": {
    "name": "ipython",
    "version": 3
   },
   "file_extension": ".py",
   "mimetype": "text/x-python",
   "name": "python",
   "nbconvert_exporter": "python",
   "pygments_lexer": "ipython3",
   "version": "3.7.1"
  }
 },
 "nbformat": 4,
 "nbformat_minor": 2
}
